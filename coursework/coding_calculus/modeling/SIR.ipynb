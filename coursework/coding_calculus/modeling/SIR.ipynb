{
 "cells": [
  {
   "cell_type": "markdown",
   "metadata": {},
   "source": [
    "# SIR Modeling Activities"
   ]
  },
  {
   "cell_type": "markdown",
   "metadata": {},
   "source": [
    "#### Charlie Bailey (peba2926)"
   ]
  },
  {
   "cell_type": "markdown",
   "metadata": {},
   "source": [
    "## How to read math and approach hard problems in general"
   ]
  },
  {
   "cell_type": "markdown",
   "metadata": {},
   "source": [
    "I learned several things doing this math reading activity. The biggest takeaway I had was the importance of building internal mental models for how to solve a problem rather than immediately \"pattern matching\" for external templates of possible solutions. This was my first reaction. As soon as I saw the equations, I was immediately thinking of equations I'd seen in Linear Algebra and how I would solve the problem using matrices. While this may have solved the problem, it wasn't a deep understanding of what was really being asked. When we switched to thinking about the problem as making change, I was again thrown by existing models of the coin change problem from Algorithms. I still have difficulty now breaking the problem down to its core components when I think about it. At it's core though, it is a minimization problem that can be understood in a very concrete manner when thinking about it in terms of making change.\n",
    "\n",
    "The goal now is to be able to step back and make these connections with novel problems."
   ]
  },
  {
   "cell_type": "markdown",
   "metadata": {},
   "source": [
    "## SIR Code"
   ]
  },
  {
   "cell_type": "code",
   "execution_count": 47,
   "metadata": {},
   "outputs": [
    {
     "name": "stdout",
     "output_type": "stream",
     "text": [
      "0 45400 2100 2500\n",
      "1 35866.0 2903.4 2650.0\n",
      "2 25452.66556 3737.347729714286 2857.385714285714\n",
      "3 15940.119375415701 4421.6489389074095 3124.3391235510203\n"
     ]
    }
   ],
   "source": [
    "t = 0\n",
    "S = 45400\n",
    "I = 2100\n",
    "R = 2500\n",
    "deltat = 1\n",
    "print(t, S, I, R)\n",
    "\n",
    "for i in range(1, 4):\n",
    "    Sprime = -0.0001 * S * I\n",
    "    Iprime = 0.00001 * S * I - (I/14)\n",
    "    Rprime = I/14\n",
    "    deltaS = Sprime * deltat\n",
    "    deltaI = Iprime * deltat\n",
    "    deltaR = Rprime * deltat\n",
    "    t = t + deltat\n",
    "    S = S + deltaS\n",
    "    I = I + deltaI\n",
    "    R = R + deltaR\n",
    "    print(t, S, I, R)"
   ]
  },
  {
   "cell_type": "markdown",
   "metadata": {},
   "source": [
    "## Section 1.1"
   ]
  },
  {
   "cell_type": "markdown",
   "metadata": {},
   "source": [
    "### Problems 1 through 6"
   ]
  },
  {
   "cell_type": "markdown",
   "metadata": {},
   "source": [
    "1. The infection hits its peak at approx. day 13. At that time there are approx. 13,000 people infected.\n",
    "\n",
    "2. Initially (at time step 0 on the S graph) there are approx. 42,000 people susceptible. By approx. day 17 the susceptible population has been cut in half to 21,000.\n",
    "\n",
    "3. It takes approx. 33 days for the recovered population to hit 25,000. Based on the R graph, there appears to be a horizontal asymptote at approx. 50,000 people recovered, so based on this graph it appears that 50,000 people will eventually recover; however this is greater than the initial 42,000 that are susceptible, which indicates there were *more* than 42,000 initially susceptible prior to time step 0.\n",
    "\n",
    "4. Based on a visual inspection of the graph, it appears that the size of the infected population is increasing most rapidly at approx. day 7 and decreasing most rapidly at approx. day 18. Day 7 is where the tangent line appears to have the steepest upward slope (largest positive value indicating highest positive rate of change). Similarly, day 18 is where the tangent line appears to have the steepest downward slope (largest negative value indicating highest negative rate of change).\n",
    "\n",
    "5. Based on the SIR model, each new infection must flow from S, therefore we can calculate the number of people who caught the illness (i.e., became infected) over the 20 days as the difference between the number of susceptible at day 0 minus the number of susceptible at day 20. Based on the S graph this calculation is: $$ 42,000 - 18,000 = 24,000 $$ which means that 24,000 people caught the illness during the first 20 days."
   ]
  },
  {
   "cell_type": "markdown",
   "metadata": {},
   "source": [
    "### Problem 7"
   ]
  },
  {
   "cell_type": "code",
   "execution_count": 12,
   "metadata": {},
   "outputs": [
    {
     "name": "stdout",
     "output_type": "stream",
     "text": [
      "[(-50, 43500), (-49, 43030), (-48, 42560), (-47, 42090), (-46, 41620), (-45, 41150), (-44, 40680), (-43, 40210), (-42, 39740), (-41, 39270), (-40, 38800), (-39, 38330), (-38, 37860), (-37, 37390), (-36, 36920), (-35, 36450), (-34, 35980), (-33, 35510), (-32, 35040), (-31, 34570), (-30, 34100), (-29, 33630), (-28, 33160), (-27, 32690), (-26, 32220), (-25, 31750), (-24, 31280), (-23, 30810), (-22, 30340), (-21, 29870), (-20, 29400), (-19, 28930), (-18, 28460), (-17, 27990), (-16, 27520), (-15, 27050), (-14, 26580), (-13, 26110), (-12, 25640), (-11, 25170), (-10, 24700), (-9, 24230), (-8, 23760), (-7, 23290), (-6, 22820), (-5, 22350), (-4, 21880), (-3, 21410), (-2, 20940), (-1, 20470), (0, 20000), (1, 19530), (2, 19060), (3, 18590), (4, 18120), (5, 17650), (6, 17180), (7, 16710), (8, 16240), (9, 15770), (10, 15300), (11, 14830), (12, 14360), (13, 13890), (14, 13420), (15, 12950), (16, 12480), (17, 12010), (18, 11540), (19, 11070), (20, 10600), (21, 10130), (22, 9660), (23, 9190), (24, 8720), (25, 8250), (26, 7780), (27, 7310), (28, 6840), (29, 6370), (30, 5900), (31, 5430), (32, 4960), (33, 4490), (34, 4020), (35, 3550), (36, 3080), (37, 2610), (38, 2140), (39, 1670), (40, 1200), (41, 730), (42, 260), (43, -210), (44, -680), (45, -1150), (46, -1620), (47, -2090), (48, -2560), (49, -3030)]\n"
     ]
    }
   ],
   "source": [
    "# code scratch cell\n",
    "S_prime = -470\n",
    "\n",
    "S = [(t, 20000 + (S_prime * t)) for t in range(-50,50)]\n",
    "print(S)"
   ]
  },
  {
   "cell_type": "code",
   "execution_count": 14,
   "metadata": {},
   "outputs": [
    {
     "name": "stdout",
     "output_type": "stream",
     "text": [
      "b:  42.5531914893617\n",
      "c:  21410\n",
      "d:  -21.27659574468085\n"
     ]
    }
   ],
   "source": [
    "# calculator cell\n",
    "print(\"b: \", -20000/(-470))\n",
    "print(\"c: \", 20000+(-470)*(-3))\n",
    "print(\"d: \", 10000/(-470))"
   ]
  },
  {
   "cell_type": "markdown",
   "metadata": {},
   "source": [
    "##### a) \n",
    "Based on the model coded above, the value at $t = 10$ (i.e., ten days later) there will be 15,300 susceptibles.\n",
    "\n",
    "##### b) \n",
    "We can solve this question by setting $S$ to 0 and solving for $t$:\n",
    "<blockquote>\n",
    "\n",
    "$0 = 20,000 + S^{\\prime} * t$\n",
    "\n",
    "$-20,000 = S^{\\prime} * t$\n",
    "\n",
    "$-20,000/S^{\\prime} = t$\n",
    "\n",
    "$t = -20,000/(-470)$\n",
    "\n",
    "$t = 42.553$\n",
    "\n",
    "</blockquote>\n",
    "\n",
    "Therefore, half way through day 42, the susceptibles population will have vanished entirely.\n",
    "\n",
    "##### c) \n",
    "Wednesday = day 0; Tuesday = day -1; Monday = day -2; Sunday = day -3. Plug in -3 for $t$ and solve:\n",
    "<blockquote>\n",
    "\n",
    "$S = 20,000 + S^{\\prime} * (-3)$\n",
    "\n",
    "$S = 21,410$\n",
    "\n",
    "</blockquote>\n",
    "\n",
    "Therefore, on the previous Sunday there were 21,410 susceptibles.\n",
    "\n",
    "##### d)\n",
    "Again, we can solve by setting $S$ to 30,000 and solve for $t$:\n",
    "\n",
    "<blockquote>\n",
    "\n",
    "$30,000 = 20,000 + S^{\\prime} * t$\n",
    "\n",
    "$10,000 = S^{\\prime} * t$\n",
    "\n",
    "$10,000/S^{\\prime} = t$\n",
    "\n",
    "$10,000/(-470) = t$\n",
    "\n",
    "$t = -21.277$\n",
    "\n",
    "</blockquote>\n",
    "\n",
    "Therefore, approx. 21 and a quarter days before Wednesday there were 30,000 susceptibles."
   ]
  },
  {
   "cell_type": "markdown",
   "metadata": {},
   "source": [
    "### Problem 19"
   ]
  },
  {
   "cell_type": "markdown",
   "metadata": {},
   "source": [
    "##### a)\n",
    "\n",
    "$\\textbf{What is the chance a susceptible falls ill?}$ \n",
    "\n",
    "This is a bit ambiguous, but $I$ interpret this as being the *rate of change* of $S$ which means we are cutting $S^{\\prime}$ in half. We can achieve this by simply multiplying both sides of the equation by $\\frac{1}{2}$.\n",
    "\n",
    "$S^{\\prime} = -aSI$\n",
    "\n",
    "$\\frac{1}{2} S^{\\prime} = \\frac{1}{2} (-a)SI$\n",
    "\n",
    "By the associativity of multiplication, we multiply $a$ by $\\frac{1}{2}$ to give us a new transmission rate of $\\frac{-a}{2}$.\n",
    "\n",
    "##### b)\n",
    "\n",
    "According to the equation presented on p. 18, we determine the threshold value by setting $aS-b$ to 0 then solve for $S$. We can therefore, plug in our new value of $a$ and again solve for $S$:\n",
    "\n",
    "$a = 0.00001$\n",
    "\n",
    "$\\frac{a}{2} = 0.000005$\n",
    "\n",
    "$aS-b = (0.000005) S - \\frac{1}{14} = 0$\n",
    "\n",
    "$(0.000005) S = \\frac{1}{14}$\n",
    "\n",
    "$S = \\frac{200000}{14}$\n",
    "\n",
    "Therefore the new threshold for $I$ decreasing is $S$ = ~14,285.7. This value makes sense in context as well—if we cut the transmission rate in half, the population of infected will begin declining while there is still a relatively larger population of susceptibles (i.e., flattening the curve).\n",
    "\n",
    "##### c)\n",
    "\n",
    "We can solve this problem by plugging in the starting values of $S$ (45,400) and $I$ (2,100) into the equation for $I^{\\prime}$. Depending on the sign of $I^{\\prime}$ we will know whether we have stopped the epidemic \"in the next timestep.\"\n",
    "\n",
    "$I^{\\prime} = aSI - bI$\n",
    "\n",
    "$I^{\\prime} = (0.000005)(45,400)(2,100) - \\frac{1}{14}(2,100)$\n",
    "\n",
    "$I^{\\prime} = 326.7$\n",
    "\n",
    "Because $I$ will still increase by 326.7 in the next time step, we can see the quarantine does not immediately eliminate the epidemic.\n",
    "\n",
    "##### d)\n",
    "\n",
    "To ensure the $I$ never goes up, we can set $I^{\\prime}$ to 0, hold $S$ and $I$ constant and solve for $a$.\n",
    "\n",
    "$I^{\\prime} = aSI - bI$\n",
    "\n",
    "$0 = aSI - bI$\n",
    "\n",
    "$0 = I(aS - b)$\n",
    "\n",
    "$0 = aS - b$\n",
    "\n",
    "$b = aS$\n",
    "\n",
    "$\\frac{b}{S} = a$\n",
    "\n",
    "Therefore,\n",
    "\n",
    "$a = \\frac{\\frac{1}{14}}{45,400} \\approx 0.0000016$\n",
    "\n",
    "With a transmission coefficient of $\\approx 0.0000016$ we can guarantee $I$ never goes up.\n",
    "\n",
    "##### e)\n",
    "\n",
    "As we saw in part (d) setting $I^{\\prime}$ to 0 and solving for $a$ $(\\approx 0.0000016)$ gives us the largest possible transmission coefficient that guarantees $I$ never goes up. \n",
    "\n",
    "$0.00001 * q = 0.0000016$\n",
    "\n",
    "$q = (0.0000016)(\\frac{1}{0.00001})$\n",
    "\n",
    "$q = \\approx 0.16$\n",
    "\n",
    "Therefore the quarentine level would need to be such that it cuts the rate of transmission to roughly $\\frac{1}{6}^{th}$ of it's current value.\n"
   ]
  },
  {
   "cell_type": "code",
   "execution_count": 34,
   "metadata": {},
   "outputs": [
    {
     "data": {
      "text/plain": [
       "0.15999999999999998"
      ]
     },
     "execution_count": 34,
     "metadata": {},
     "output_type": "execute_result"
    }
   ],
   "source": [
    "(0.0000016)*(1/0.00001)"
   ]
  },
  {
   "cell_type": "markdown",
   "metadata": {},
   "source": [
    "### Problem 20"
   ]
  },
  {
   "cell_type": "markdown",
   "metadata": {},
   "source": [
    "##### a)\n",
    "\n",
    "Based on this equation, the recovery coefficient $b$ is 0.08, which simplifies to $\\frac{2}{25}$ or approximately 1 person every 12.5 days. Therefore, we can say that someone who catches the illness remains infected for approx. 12.5 days.\n",
    "\n",
    "##### b)\n",
    "\n",
    "In order for the number of cases to increase we must have the susceptible population above the epidemic threshold (which we calculated on the previous model). We can do this again for the model presented here:\n",
    "\n",
    "$I^{\\prime} = aSI - bI$\n",
    "\n",
    "$0 = aSI - bI$\n",
    "\n",
    "$0 = I(aS - b)$\n",
    "\n",
    "$0 = aS - b$\n",
    "\n",
    "$S = \\frac{b}{a}$\n",
    "\n",
    "Plugging in the values from this new model we get:\n",
    "\n",
    "$S = \\frac{0.08}{0.00002} = 4000$\n",
    "\n",
    "Therefore, in order for the infection to take hold, the susceptible population must be at least 4001.\n",
    "\n",
    "##### c)\n",
    "\n",
    "$R^{\\prime} = (0.08)(100) = 8$\n",
    "\n",
    "Assuming the time step in this model is 24 hours (i.e., $R^{\\prime}$ compounds daily), 8 new people recover in the next 24 hours.\n",
    "\n",
    "##### d)\n",
    "\n",
    "If 30 new cases appear, this tells us that our susceptible population has decreased by 30, therefore $S^{\\prime} = -30$ for this time step.\n",
    "\n",
    "##### e)\n",
    "\n",
    "Based on the information in (c) and (d) we have $I = 100$ and $S^{\\prime} = -30$. We can then plug these values into the equation for $S^{\\prime}$ and solve for $S$.\n",
    "\n",
    "$S^{\\prime} = (-0.00002)SI$\n",
    "\n",
    "$S^{\\prime}/(-0.00002) = SI$\n",
    "\n",
    "$S^{\\prime}/(-0.00002)/I = S$\n",
    "\n",
    "$S = (-30)/(-0.00002)/(100)$\n",
    "\n",
    "Therefore, $S = 15,000$."
   ]
  },
  {
   "cell_type": "code",
   "execution_count": 40,
   "metadata": {},
   "outputs": [
    {
     "data": {
      "text/plain": [
       "0.0005"
      ]
     },
     "execution_count": 40,
     "metadata": {},
     "output_type": "execute_result"
    }
   ],
   "source": [
    "(1/6)*(0.003)"
   ]
  },
  {
   "cell_type": "markdown",
   "metadata": {},
   "source": [
    "### Problem 21"
   ]
  },
  {
   "cell_type": "markdown",
   "metadata": {},
   "source": [
    "##### a)\n",
    "\n",
    "If the illness lasts for 4 days we know that $b = \\frac{1}{4}$.\n",
    "\n",
    "If the typical susceptible person only meets $0.03\\%$ of the population and the infection is only transmitted in one out of six contacts, we can calculate the transmission coefficient as the percent contact * probability transmission, which gives us $a = (0.003)*(1/6) = 0.0005$\n",
    "\n",
    "With these two coefficients, we can model the illness:\n",
    "\n",
    "$S^{\\prime} = (-0.0005)SI$\n",
    "\n",
    "$I^{\\prime} = (0.0005)SI - (0.25)I$\n",
    "\n",
    "$R^{\\prime} = (0.25)I$\n",
    "\n",
    "##### b)\n",
    "\n",
    "Again, we can solve for the epidemic threshold by setting $I^{\\prime} = 0$:\n",
    "\n",
    "$I^{\\prime} = aSI - bI$\n",
    "\n",
    "$0 = aSI - bI$\n",
    "\n",
    "$0 = I(aS - b)$\n",
    "\n",
    "$0 = aS - b$\n",
    "\n",
    "$S = \\frac{b}{a}$\n",
    "\n",
    "$S = \\frac{0.25}{0.0005} = 500$\n",
    "\n",
    "Therefore, as long as the susceptible population is less than 500, the illness will fade away without becoming an epidemic."
   ]
  },
  {
   "cell_type": "code",
   "execution_count": 41,
   "metadata": {},
   "outputs": [
    {
     "data": {
      "text/plain": [
       "500.0"
      ]
     },
     "execution_count": 41,
     "metadata": {},
     "output_type": "execute_result"
    }
   ],
   "source": [
    "0.25/0.0005"
   ]
  },
  {
   "cell_type": "markdown",
   "metadata": {},
   "source": [
    "### Problem 22"
   ]
  },
  {
   "cell_type": "markdown",
   "metadata": {},
   "source": [
    "##### a)\n",
    "\n",
    "The epidemic threshold level for $S$ in terms of $a$ and $b$ is:\n",
    "\n",
    "$S = \\frac{b}{a}$\n",
    "\n",
    "##### b)\n",
    "\n",
    "Two illnesses that only differ in the length of time someone stays ill means they have different recovery coefficients $b$. In the cell below, we can show how the value of $S$ changes with increasing values of $b$.\n",
    "\n",
    "As we can see from this example, as the number of days it takes to recover increases, the epidemic threshold size of the susceptible population decreases. Intuitively this makes sense—if we hold the transmission coefficient steady and increase the number of days it takes to recovery, this allows for a higher probability of contact and faster spread of the illness, which results in a smaller susceptible population needed to create an epidemic."
   ]
  },
  {
   "cell_type": "code",
   "execution_count": 45,
   "metadata": {},
   "outputs": [
    {
     "name": "stdout",
     "output_type": "stream",
     "text": [
      "Days: 4 | S: 24999.999999999996\n",
      "Days: 5 | S: 20000.0\n",
      "Days: 6 | S: 16666.666666666664\n",
      "Days: 7 | S: 14285.714285714284\n",
      "Days: 8 | S: 12499.999999999998\n",
      "Days: 9 | S: 11111.11111111111\n",
      "Days: 10 | S: 10000.0\n",
      "Days: 11 | S: 9090.90909090909\n",
      "Days: 12 | S: 8333.333333333332\n",
      "Days: 13 | S: 7692.307692307692\n",
      "Days: 14 | S: 7142.857142857142\n",
      "Days: 15 | S: 6666.666666666666\n",
      "Days: 16 | S: 6249.999999999999\n",
      "Days: 17 | S: 5882.35294117647\n",
      "Days: 18 | S: 5555.555555555555\n",
      "Days: 19 | S: 5263.157894736842\n",
      "Days: 20 | S: 5000.0\n"
     ]
    }
   ],
   "source": [
    "for days in range(4, 21):\n",
    "    S = (1/days)/(0.00001)\n",
    "    print(f\"Days: {days} | S: {S}\")"
   ]
  }
 ],
 "metadata": {
  "kernelspec": {
   "display_name": ".venv",
   "language": "python",
   "name": "python3"
  },
  "language_info": {
   "codemirror_mode": {
    "name": "ipython",
    "version": 3
   },
   "file_extension": ".py",
   "mimetype": "text/x-python",
   "name": "python",
   "nbconvert_exporter": "python",
   "pygments_lexer": "ipython3",
   "version": "3.9.6"
  }
 },
 "nbformat": 4,
 "nbformat_minor": 2
}
